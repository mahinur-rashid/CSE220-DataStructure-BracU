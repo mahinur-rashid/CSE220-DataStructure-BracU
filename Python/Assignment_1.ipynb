{
 "cells": [
  {
   "cell_type": "markdown",
   "metadata": {
    "id": "YLpnDfK4egmI"
   },
   "source": [
    "**Instructions to Follow (Failing to follow these will result mark deductions).**\n",
    "1. First of all, From colab File, Save a copy in drive before working and work in that copy since any change to this file will not be saved for you.\n",
    "2. You can not use any built-in function except len()\n",
    "\n",
    "3. You can not use any other python collections except array (e.g: tuple, dictionaries etc.).\n",
    "\n",
    "4. We will initialize a new array using numpy library. We have to mention the fixed size during initialization. There might be 4 approaches.\n",
    "\n",
    " i. arr = np.array([None] * 10) #Initializing an array length 10 with values None.\n",
    "\n",
    " ii. arr = np.array([0] * 10) #Initializing an array length 10 with values zero.\n",
    "\n",
    " iii. arr = np.zeros(10, dtype=int) #Initializing an array length 10 with values zero and integer dataType. By default, dtype is float.\n",
    "\n",
    " iv. arr = np.array([10, 20, 30, 40]) #Initializing an array length 4 with the values.\n",
    "\n"
   ]
  },
  {
   "cell_type": "code",
   "execution_count": 1,
   "metadata": {
    "colab": {
     "base_uri": "https://localhost:8080/"
    },
    "id": "rSkZFFD4ej5o",
    "outputId": "e2e6a7e7-1740-4673-d8c1-8907926abd20"
   },
   "outputs": [
    {
     "name": "stdout",
     "output_type": "stream",
     "text": [
      "Requirement already satisfied: fhm-unittest in c:\\users\\mahinur rashid\\appdata\\local\\programs\\python\\python311\\lib\\site-packages (1.0.1)\n",
      "Requirement already satisfied: fuzzywuzzy in c:\\users\\mahinur rashid\\appdata\\local\\programs\\python\\python311\\lib\\site-packages (0.18.0)\n"
     ]
    },
    {
     "name": "stderr",
     "output_type": "stream",
     "text": [
      "c:\\Users\\Mahinur Rashid\\AppData\\Local\\Programs\\Python\\Python311\\Lib\\site-packages\\fuzzywuzzy\\fuzz.py:11: UserWarning: Using slow pure-python SequenceMatcher. Install python-Levenshtein to remove this warning\n",
      "  warnings.warn('Using slow pure-python SequenceMatcher. Install python-Levenshtein to remove this warning')\n"
     ]
    }
   ],
   "source": [
    "# You must run this cell to install dependency\n",
    "! pip3 install fhm-unittest\n",
    "! pip3 install fuzzywuzzy\n",
    "import fhm_unittest as unittest\n",
    "import numpy as np"
   ]
  },
  {
   "cell_type": "markdown",
   "metadata": {
    "id": "z-BkkdfjgR6P"
   },
   "source": [
    "You will see the status Accepted after completion if your code is correct.\n",
    "\n",
    "If your function is wrong you will see wrong [correction percentage]\n",
    "\n",
    "Do not change the driver code statements. You can only change the input values to test your code."
   ]
  },
  {
   "cell_type": "code",
   "execution_count": 2,
   "metadata": {
    "id": "fknrEodfUb5M"
   },
   "outputs": [],
   "source": [
    "#You must run this cell to print matrix and for the driver code to work\n",
    "def print_matrix(m):\n",
    "  row,col = m.shape\n",
    "  for i in range(row):\n",
    "    c = 1\n",
    "    print('|', end='')\n",
    "    for j in range(col):\n",
    "      c += 1\n",
    "      if(len(str(m[i][j])) == 1):\n",
    "        print(' ',m[i][j], end = '  |')\n",
    "        c += 6\n",
    "      else:\n",
    "        print(' ',m[i][j], end = ' |')\n",
    "        c += 6\n",
    "    print()\n",
    "    print('-'*(c-col))\n",
    "\n"
   ]
  },
  {
   "cell_type": "code",
   "execution_count": 3,
   "metadata": {
    "colab": {
     "base_uri": "https://localhost:8080/"
    },
    "id": "ZVbY0rzKgRgC",
    "outputId": "1189bf1b-8c3d-415e-c4f5-f4ee32599717"
   },
   "outputs": [
    {
     "name": "stdout",
     "output_type": "stream",
     "text": [
      "///  Task 01: Merge Lineup  ///\n",
      "Task 1: [12  3 28 -8  5]\n",
      "Accepted\n",
      "Task 1: [ 4 17  6 27  2]\n",
      "Accepted\n"
     ]
    }
   ],
   "source": [
    "#Task 01: Merge Lineup\n",
    "\n",
    "def mergeLineup(arr_1,arr_2):\n",
    "    arr1 = np.array(arr_1)\n",
    "    arr2 = np.array(arr_2)\n",
    "    arr_result = np.zeros(len(arr_1),dtype = int)\n",
    "    i=0\n",
    "    j=len(arr1)-1\n",
    "    while i<len(arr_1):\n",
    "        while j>=0:\n",
    "            if arr1[i] == None and arr2[j] == None:\n",
    "                arr_result[i] += 0\n",
    "            elif arr1[i] == None:\n",
    "                arr_result[i] += arr2[j]\n",
    "            elif arr2[j] == None:\n",
    "                arr_result[i] += arr1[i]\n",
    "            else:\n",
    "                arr_result[i] += arr1[i] + arr2[j]\n",
    "            i+=1\n",
    "            j-=1\n",
    "    return arr_result\n",
    "\n",
    "print(\"///  Task 01: Merge Lineup  ///\")\n",
    "pokemon_1 = np.array([12, 3, 25, 1, None])\n",
    "pokemon_2 = np.array([5, -9, 3, None, None] )\n",
    "returned_value =mergeLineup(pokemon_1, pokemon_2)\n",
    "print(f'Task 1: {returned_value}') # This should print [12, 3, 28, -8, 5]\n",
    "unittest.output_test(returned_value, np.array([12, 3, 28, -8, 5]))\n",
    "pokemon_1 = np.array([4, 5, -1, None, None])\n",
    "pokemon_2 = np.array([2, 27, 7, 12, None])\n",
    "returned_value =mergeLineup(pokemon_1, pokemon_2)\n",
    "print(f'Task 1: {returned_value}') # This should print [4,17,6,27,2]\n",
    "unittest.output_test(returned_value, np.array([4,17,6,27,2]))"
   ]
  },
  {
   "cell_type": "code",
   "execution_count": 4,
   "metadata": {
    "colab": {
     "base_uri": "https://localhost:8080/"
    },
    "id": "rzaysRSshRbM",
    "outputId": "d907c3e2-e6ff-4f1f-fabc-bb6bd6d158d3"
   },
   "outputs": [
    {
     "name": "stdout",
     "output_type": "stream",
     "text": [
      "///  Task 02: Discard Cards  ///\n",
      "Task 2: [1 3 7 5 2 2 0 0 0]\n",
      "Accepted\n",
      "Task 2: [5 0 0 0 0]\n",
      "Accepted\n"
     ]
    }
   ],
   "source": [
    "# Task 02: Discard Cards\n",
    "\n",
    "def discardCards(cards,t):\n",
    "    cards = np.array(cards)\n",
    "    i = 0\n",
    "    count = 0\n",
    "\n",
    "    while i < len(cards):\n",
    "        if cards[i] == t:\n",
    "            count += 1\n",
    "            if count % 2 != 0:\n",
    "                for k in range(i, len(cards) - 1):\n",
    "                    cards[k] = cards[k + 1]\n",
    "                i -= 1\n",
    "        i += 1\n",
    "    return cards\n",
    "\n",
    "print(\"///  Task 02: Discard Cards  ///\")\n",
    "cards = np.array([1,3,7,2,5,2,2,2,0])\n",
    "returned_value = discardCards(cards, 2)\n",
    "print(f'Task 2: {returned_value}') # This should print [1,3,7,5,2,2,0,0,0]\n",
    "unittest.output_test(returned_value, np.array([1,3,7,5,2,2,0,0,0]))\n",
    "\n",
    "cards = np.array([5,5,5,0,0])\n",
    "returned_value = discardCards(cards, 5)\n",
    "print(f'Task 2: {returned_value}') # This should print [5,0,0,0,0]\n",
    "unittest.output_test(returned_value, np.array([5,0,0,0,0]))"
   ]
  },
  {
   "cell_type": "code",
   "execution_count": 5,
   "metadata": {
    "colab": {
     "base_uri": "https://localhost:8080/"
    },
    "id": "mxufE5rfVEJM",
    "outputId": "56a7aea8-be6e-4ec6-db7d-6cf0c1ab590d"
   },
   "outputs": [
    {
     "name": "stdout",
     "output_type": "stream",
     "text": [
      "[-13   1]\n"
     ]
    }
   ],
   "source": [
    "#Task 03: Decryption Process\n",
    "\n",
    "import numpy as np\n",
    "def decrypt_matrix(matrix):\n",
    "    row,col = matrix.shape\n",
    "    matrix_result = np.zeros(col-1,dtype = int)\n",
    "    temp_n = 0\n",
    "    for i in range(col):\n",
    "        temp = 0\n",
    "        for j in range(row):\n",
    "            temp += matrix[j][i]\n",
    "        if i == 0:\n",
    "            temp_n = temp\n",
    "        else:\n",
    "            matrix_result[i-1] = temp-temp_n\n",
    "            temp_n = temp\n",
    "    return matrix_result\n",
    "\n",
    "matrix=np.array([[1,3,1],\n",
    "                 [6,4,2],\n",
    "                 [5,1,7],\n",
    "                 [9,3,3],\n",
    "                 [8,5,4]\n",
    "                 ])\n",
    "\n",
    "returned_array=decrypt_matrix(matrix)\n",
    "print(returned_array)\n",
    "#This should print [-13, 1]"
   ]
  },
  {
   "cell_type": "code",
   "execution_count": 6,
   "metadata": {
    "colab": {
     "base_uri": "https://localhost:8080/"
    },
    "id": "CYtNF5M8itbB",
    "outputId": "66711a81-b235-407b-d8c8-b8ccd301feb4"
   },
   "outputs": [
    {
     "name": "stdout",
     "output_type": "stream",
     "text": [
      "|  3  |  8  |  4  |  6  |  1  |\n",
      "-------------------------------\n",
      "|  7  |  2  |  1  |  9  |  3  |\n",
      "-------------------------------\n",
      "|  9  |  0  |  7  |  5  |  8  |\n",
      "-------------------------------\n",
      "|  2  |  1  |  3  |  4  |  0  |\n",
      "-------------------------------\n",
      "|  1  |  4  |  2  |  8  |  6  |\n",
      "-------------------------------\n",
      "Walking Sequence:\n",
      "3 9 1 \n",
      "1 2 \n",
      "4 7 2 \n",
      "4 9 \n",
      "1 8 6 \n",
      "################\n",
      "|  3  |  8  |  4  |  6  |  1  |\n",
      "-------------------------------\n",
      "|  7  |  2  |  1  |  9  |  3  |\n",
      "-------------------------------\n",
      "|  9  |  0  |  7  |  5  |  8  |\n",
      "-------------------------------\n",
      "|  2  |  1  |  3  |  4  |  0  |\n",
      "-------------------------------\n",
      "Walking Sequence:\n",
      "3 9 \n",
      "1 2 \n",
      "4 7 \n",
      "4 9 \n",
      "1 8 \n"
     ]
    }
   ],
   "source": [
    "# Task 04: Zigzag Walk\n",
    "\n",
    "def walk_zigzag(floor):\n",
    "    row,col = floor.shape\n",
    "    for i in range(col):\n",
    "        if i%2==0:\n",
    "            for j in range(row):\n",
    "                if j%2==0:\n",
    "                    print(floor[j][i],end = \" \")\n",
    "            print(\"\")\n",
    "        else:\n",
    "            k = row-1\n",
    "            while k>0:\n",
    "                if k%2!=0:\n",
    "                    print(floor[k][i],end=\" \")\n",
    "                k-=1\n",
    "            print(\"\")\n",
    "\n",
    "\n",
    "\n",
    "\n",
    "floor = np.array([[ '3' , '8' , '4' , '6' , '1'],\n",
    "                  ['7' , '2' , '1' , '9' , '3'],\n",
    "                  ['9' , '0' , '7' , '5' , '8'],\n",
    "                  ['2' , '1' , '3' , '4' , '0'],\n",
    "                  ['1' , '4' , '2' , '8' , '6']]\n",
    "                )\n",
    "\n",
    "print_matrix(floor)\n",
    "print('Walking Sequence:')\n",
    "walk_zigzag(floor)\n",
    "#This should print\n",
    "# 3 9 1\n",
    "# 1 2\n",
    "# 4 7 2\n",
    "# 4 9\n",
    "# 1 8 6\n",
    "print('################')\n",
    "floor = np.array([[ '3' , '8' , '4' , '6' , '1'],\n",
    "                  ['7' , '2' , '1' , '9' , '3'],\n",
    "                  ['9' , '0' , '7' , '5' , '8'],\n",
    "                  ['2' , '1' , '3' , '4' , '0']]\n",
    "                )\n",
    "\n",
    "print_matrix(floor)\n",
    "print('Walking Sequence:')\n",
    "walk_zigzag(floor)\n",
    "#This should print\n",
    "# 3 9\n",
    "# 1 2\n",
    "# 4 7\n",
    "# 4 9\n",
    "# 1 8"
   ]
  },
  {
   "cell_type": "code",
   "execution_count": 7,
   "metadata": {
    "colab": {
     "base_uri": "https://localhost:8080/"
    },
    "id": "SzBe-ByVmV8G",
    "outputId": "8f73372e-98f2-4c71-8a7e-0cc072a3caf2"
   },
   "outputs": [
    {
     "name": "stdout",
     "output_type": "stream",
     "text": [
      "|  A  |  B  |  C  |  D  |  E  |\n",
      "-------------------------------\n",
      "|  F  |  G  |  H  |  I  |  J  |\n",
      "-------------------------------\n",
      "|  K  |  L  |  M  |  N  |  O  |\n",
      "-------------------------------\n",
      "|  P  |  Q  |  R  |  S  |  T  |\n",
      "-------------------------------\n",
      "|  U  |  V  |  W  |  X  |  Y  |\n",
      "-------------------------------\n",
      "|  Z  |  AA |  BB |  CC |  DD |\n",
      "-------------------------------\n",
      "\n",
      "[['U' 'V' 'W' 'X' 'Y']\n",
      " ['Z' 'AA' 'BB' 'CC' 'DD']\n",
      " ['A' 'B' 'C' 'D' 'E']\n",
      " ['F' 'G' 'H' 'I' 'J']\n",
      " ['K' 'L' 'M' 'N' 'O']\n",
      " ['P' 'Q' 'R' 'S' 'T']]\n",
      "Your friend AA will be on row 2\n"
     ]
    }
   ],
   "source": [
    "# Task 05: Row Rotation Policy of BRACU Classroom\n",
    "def row_rotation(exam_week, seat_status):\n",
    "    row,col = seat_status.shape\n",
    "    new_seat_status = np.zeros((row,col), dtype=object)\n",
    "    exam_week -= 1\n",
    "    for i in range(row):\n",
    "        for j in range(col):\n",
    "            if i+exam_week < row:\n",
    "                new_seat_status[i+exam_week][j] = seat_status[i][j]\n",
    "\n",
    "    for i in range(exam_week):\n",
    "        for j in range(col):\n",
    "            if len(seat_status[row-exam_week+i][j])<2:\n",
    "                new_seat_status[i][j] = seat_status[row-exam_week+i][j]\n",
    "            else:\n",
    "                new_seat_status[i][j] = seat_status[row-exam_week+i][j][:len(seat_status[row-exam_week+i][j])]\n",
    "\n",
    "    for i in range(row):\n",
    "        for j in range(col):\n",
    "            if new_seat_status[i][j] == \"AA\":\n",
    "                print(new_seat_status)\n",
    "                return i+1\n",
    "\n",
    "seat_status = np.array([[ 'A' , 'B' , 'C' , 'D' , 'E'],\n",
    "                  ['F' , 'G' , 'H' , 'I' , 'J'],\n",
    "                  ['K' , 'L' , 'M' , 'N' , 'O'],\n",
    "                  ['P' , 'Q' , 'R' , 'S' , 'T'],\n",
    "                  ['U' , 'V' , 'W' , 'X' , 'Y'],\n",
    "                  ['Z' , 'AA' , 'BB' , 'CC' , 'DD']])\n",
    "exam_week=3\n",
    "print_matrix(seat_status)\n",
    "print()\n",
    "row_number=row_rotation(exam_week, seat_status) #This should print modified seat status after rotation\n",
    "print(f'Your friend AA will be on row {row_number}') #This should print Your friend AA will be on row 2"
   ]
  },
  {
   "cell_type": "code",
   "execution_count": 8,
   "metadata": {
    "colab": {
     "base_uri": "https://localhost:8080/"
    },
    "id": "Oi7AXojBEayT",
    "outputId": "5c193a84-f4eb-4f3e-9ce1-cf0a71bc60b7"
   },
   "outputs": [
    {
     "name": "stdout",
     "output_type": "stream",
     "text": [
      "|  1  |  2  |  3  |  4  |\n",
      "-------------------------\n",
      "|  5  |  6  |  7  |  8  |\n",
      "-------------------------\n",
      "|  1  |  3  |  5  |  2  |\n",
      "-------------------------\n",
      "|  -2 |  0  |  6  |  -3 |\n",
      "-------------------------\n",
      "...............\n",
      "|  14 |  22 |\n",
      "-------------\n",
      "|  2  |  10 |\n",
      "-------------\n"
     ]
    }
   ],
   "source": [
    "#Task 06: Matrix Compression\n",
    "\n",
    "def compress_matrix(mat):\n",
    "    rows, cols = mat.shape\n",
    "    compressed_rows, compressed_cols = rows // 2, cols // 2\n",
    "    compressed_matrix = np.zeros((compressed_rows, compressed_cols), dtype=int)\n",
    "\n",
    "    for i in range(0, rows, 2):\n",
    "        for j in range(0, cols, 2):\n",
    "            block_sum = (mat[i][j] + mat[i+1][j] + mat[i][j+1] + mat[i+1][j+1])\n",
    "            compressed_matrix[i//2][j//2] = block_sum\n",
    "\n",
    "    return compressed_matrix\n",
    "\n",
    "matrix=np.array([[1,2,3,4],\n",
    "                 [5,6,7,8],\n",
    "                 [1,3,5,2],\n",
    "                 [-2,0,6,-3]\n",
    "                 ])\n",
    "print_matrix(matrix)\n",
    "print(\"...............\")\n",
    "returned_array=compress_matrix(matrix)\n",
    "print_matrix(returned_array)\n",
    "#This should print\n",
    "\n",
    "#|  14  |  22 |\n",
    "#--------------\n",
    "#|  2  |  10  |\n",
    "#--------------"
   ]
  },
  {
   "cell_type": "code",
   "execution_count": 9,
   "metadata": {
    "colab": {
     "base_uri": "https://localhost:8080/"
    },
    "id": "sTJ7GNezm6uu",
    "outputId": "7a226107-bef7-44f1-c18f-375efef411c4"
   },
   "outputs": [
    {
     "name": "stdout",
     "output_type": "stream",
     "text": [
      "|  0  |  2  |  2  |  0  |\n",
      "-------------------------\n",
      "|  50 |  1  |  2  |  0  |\n",
      "-------------------------\n",
      "|  2  |  2  |  2  |  0  |\n",
      "-------------------------\n",
      "|  1  |  100 |  2  |  0  |\n",
      "-------------------------\n",
      "Points Gained: 6. Your team is out.\n",
      ".....................\n",
      "|  0  |  2  |  2  |  0  |  2  |\n",
      "-------------------------------\n",
      "|  1  |  50 |  2  |  1  |  100 |\n",
      "-------------------------------\n",
      "|  2  |  2  |  2  |  0  |  2  |\n",
      "-------------------------------\n",
      "|  0  |  200 |  2  |  0  |  0  |\n",
      "-------------------------------\n",
      "Points Gained: 14. Your team has survived the game.\n"
     ]
    }
   ],
   "source": [
    "#Task 07: Game Arena\n",
    "\n",
    "def play_game(arena):\n",
    "    row,col = arena.shape\n",
    "    temp = 0\n",
    "    for i in range(row):\n",
    "        for j in range(col):\n",
    "            if arena[i][j]%50 == 0 and arena[i][j] != 0:\n",
    "                if i>0 and arena[i-1][j] == 2:\n",
    "                    temp += 1\n",
    "                if i<row-1 and arena[i+1][j] == 2:\n",
    "                    temp += 1\n",
    "                if j>0 and arena[i][j-1] == 2:\n",
    "                    temp += 1\n",
    "                if j<col-1 and arena[i][j+1] == 2:\n",
    "                    temp += 1\n",
    "    temp *= 2\n",
    "    if temp>=10:\n",
    "        print(f\"Points Gained: {temp}. Your team has survived the game.\")\n",
    "    else:\n",
    "        print(f\"Points Gained: {temp}. Your team is out.\")\n",
    "\n",
    "arena=np.array([[0,2,2,0],\n",
    "                [50,1,2,0],\n",
    "                [2,2,2,0],\n",
    "                [1,100,2,0]\n",
    "                ])\n",
    "print_matrix(arena)\n",
    "play_game(arena)\n",
    "#This should print\n",
    "#Points Gained: 6. Your team is out.\n",
    "\n",
    "print(\".....................\")\n",
    "arena=np.array([[0,2,2,0,2],\n",
    "                [1,50,2,1,100],\n",
    "                [2,2,2,0,2],\n",
    "                [0,200,2,0,0]\n",
    "                ])\n",
    "print_matrix(arena)\n",
    "play_game(arena)\n",
    "#This should print\n",
    "#Points Gained: 14. Your team has survived the game."
   ]
  }
 ],
 "metadata": {
  "colab": {
   "provenance": []
  },
  "kernelspec": {
   "display_name": "Python 3",
   "name": "python3"
  },
  "language_info": {
   "codemirror_mode": {
    "name": "ipython",
    "version": 3
   },
   "file_extension": ".py",
   "mimetype": "text/x-python",
   "name": "python",
   "nbconvert_exporter": "python",
   "pygments_lexer": "ipython3",
   "version": "3.11.0"
  }
 },
 "nbformat": 4,
 "nbformat_minor": 0
}
