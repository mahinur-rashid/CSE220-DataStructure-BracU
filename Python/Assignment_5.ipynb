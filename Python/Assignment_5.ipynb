{
  "cells": [
    {
      "cell_type": "code",
      "execution_count": 1,
      "metadata": {
        "id": "D6vC520OPeTa"
      },
      "outputs": [],
      "source": [
        "class BTNode:\n",
        "  def __init__(self, elem):\n",
        "    self.elem = elem\n",
        "    self.right = None\n",
        "    self.left = None"
      ]
    },
    {
      "cell_type": "code",
      "execution_count": 2,
      "metadata": {
        "id": "UDTKlm4-PfNM"
      },
      "outputs": [],
      "source": [
        "def inorder(root):\n",
        "  if root == None:\n",
        "    return\n",
        "\n",
        "  inorder(root.left)\n",
        "  print(root.elem, end = ' ')\n",
        "  inorder(root.right)"
      ]
    },
    {
      "cell_type": "code",
      "execution_count": 3,
      "metadata": {
        "colab": {
          "base_uri": "https://localhost:8080/"
        },
        "id": "Rtc22SPzPgzM",
        "outputId": "2890fce1-c3ae-4116-e23f-587afd02feba"
      },
      "outputs": [
        {
          "name": "stdout",
          "output_type": "stream",
          "text": [
            "H D B E A I F J C G k "
          ]
        }
      ],
      "source": [
        "def tree_construction(arr, i = 1):\n",
        "  if i>=len(arr) or arr[i] == None:\n",
        "    return None\n",
        "  p = BTNode(arr[i])\n",
        "  p.left = tree_construction(arr, 2*i)\n",
        "  p.right = tree_construction(arr, 2*i+1)\n",
        "  return p\n",
        "\n",
        "\n",
        "root2 = tree_construction([None, 'A', 'B', 'C', 'D', 'E', 'F', 'G', 'H', None, None, None, 'I', 'J', None, 'k'])\n",
        "inorder(root2)"
      ]
    },
    {
      "cell_type": "markdown",
      "metadata": {
        "id": "S2nNCJNhPqGq"
      },
      "source": [
        "Task 1"
      ]
    },
    {
      "cell_type": "code",
      "execution_count": 4,
      "metadata": {
        "colab": {
          "base_uri": "https://localhost:8080/"
        },
        "id": "zbBHU3FoPieb",
        "outputId": "4b56e682-d04b-4e9f-fb42-604816108639"
      },
      "outputs": [
        {
          "name": "stdout",
          "output_type": "stream",
          "text": [
            "Given Tree Inorder Traversal:  40 20 60 10 30 \n",
            "Mirrored Tree Inorder Traversal:  30 10 60 20 40 "
          ]
        }
      ],
      "source": [
        "def convert_mirror(root):\n",
        "  if root:\n",
        "    convert_mirror(root.left)\n",
        "    convert_mirror(root.right)\n",
        "    root.left,root.right = root.right,root.left\n",
        "    return root\n",
        "\n",
        "#DRIVER CODE\n",
        "root = BTNode(10)\n",
        "n1 = BTNode(20)\n",
        "n2 = BTNode(30)\n",
        "n3 = BTNode(40)\n",
        "n4 = BTNode(60)\n",
        "\n",
        "root.left = n1\n",
        "root.right = n2\n",
        "\n",
        "n1.left = n3\n",
        "n1.right = n4\n",
        "\n",
        "print('Given Tree Inorder Traversal: ', end = ' ')\n",
        "inorder(root) #Given Tree Inorder Traversal:  40 20 60 10 30\n",
        "print()\n",
        "\n",
        "root2 = convert_mirror(root)\n",
        "print('Mirrored Tree Inorder Traversal: ', end = ' ')\n",
        "inorder(root2) #Mirrored Tree Inorder Traversal:  30 10 60 20 40"
      ]
    },
    {
      "cell_type": "markdown",
      "metadata": {
        "id": "c-TBf3m0PrtK"
      },
      "source": [
        "Task 2"
      ]
    },
    {
      "cell_type": "code",
      "execution_count": 5,
      "metadata": {
        "colab": {
          "base_uri": "https://localhost:8080/"
        },
        "id": "lsuxinlBPmji",
        "outputId": "75e347f5-ee84-40f3-8d1e-7a601dd37219"
      },
      "outputs": [
        {
          "name": "stdout",
          "output_type": "stream",
          "text": [
            "Given Tree Inorder Traversal:  3 9 -5 4 2 7 \n",
            "Level Wise Smallest Value:  {0: 4, 1: 2, 2: -5}\n"
          ]
        }
      ],
      "source": [
        "def smallest_level(root, level = {}, i = 0):\n",
        "    if root == None:\n",
        "        return\n",
        "    if i not in level.keys():\n",
        "        level[i] = root.elem\n",
        "    else:\n",
        "        if root.elem < level[i]:\n",
        "            level[i] = root.elem\n",
        "\n",
        "    smallest_level(root.left,level, i+1)\n",
        "    smallest_level(root.right,level, i+1)\n",
        "\n",
        "    return level\n",
        "\n",
        "\n",
        "#DRIVER CODE\n",
        "root = tree_construction([None, 4,9,2,3,-5,None,7])\n",
        "print('Given Tree Inorder Traversal: ', end = ' ')\n",
        "inorder(root) #Given Tree Inorder Traversal:  3 9 -5 4 2 7\n",
        "print()\n",
        "print('Level Wise Smallest Value: ', end = ' ')\n",
        "print(smallest_level(root)) #Level Wise Smallest Value:  {0: 4, 1: 2, 2: -5}"
      ]
    },
    {
      "cell_type": "markdown",
      "metadata": {
        "id": "t3IGW4OaP8Vy"
      },
      "source": [
        "Task 3"
      ]
    },
    {
      "cell_type": "code",
      "execution_count": 6,
      "metadata": {
        "id": "m4E9_E8PThk6"
      },
      "outputs": [],
      "source": [
        "def sumTree(root):\n",
        "    return sum_of_nodes(root,0)\n",
        "def sum_of_nodes(root,level):\n",
        "    if root == None:\n",
        "        return 0\n",
        "    if level == 0:\n",
        "        value = root.elem\n",
        "    else:\n",
        "        value = root.elem % level\n",
        "\n",
        "    left = sum_of_nodes(root.left,level+1)\n",
        "    right = sum_of_nodes(root.right,level+1)\n",
        "\n",
        "    return value+left+right\n",
        "\n",
        "\n",
        "  # To DO\n",
        "  #you can declare as many helper function with extra parameters as you need .\n",
        "  #You can not modify the parameters of sumTree or modify any part of the given code."
      ]
    },
    {
      "cell_type": "code",
      "execution_count": 7,
      "metadata": {
        "colab": {
          "base_uri": "https://localhost:8080/"
        },
        "id": "wV3ezsf_Kwli",
        "outputId": "dd32a9ed-471e-46a9-8685-45ff4e863482"
      },
      "outputs": [
        {
          "name": "stdout",
          "output_type": "stream",
          "text": [
            "15\n"
          ]
        }
      ],
      "source": [
        "#Driver Code\n",
        "#Input 1\n",
        "root1 = BTNode(9)\n",
        "node2 = BTNode(4)\n",
        "node3 = BTNode(5)\n",
        "node4 = BTNode(18)\n",
        "node5 = BTNode(14)\n",
        "node6 = BTNode(3)\n",
        "node7 = BTNode(54)\n",
        "node8 = BTNode(12)\n",
        "node9 = BTNode(8)\n",
        "node10 = BTNode(91)\n",
        "node11 = BTNode(56)\n",
        "\n",
        "root1.left = node2\n",
        "root1.right = node3\n",
        "\n",
        "node2.left = node4\n",
        "\n",
        "node3.left = node5\n",
        "node3.right = node6\n",
        "\n",
        "node4.left = node7\n",
        "node4.right = node8\n",
        "\n",
        "node5.left = node9\n",
        "\n",
        "node8.left = node10\n",
        "node8.right = node11\n",
        "\n",
        "print(sumTree(root1)) #This should print 15"
      ]
    },
    {
      "cell_type": "markdown",
      "metadata": {
        "id": "8GJeWub8Ki1X"
      },
      "source": [
        "Task 4\n"
      ]
    },
    {
      "cell_type": "code",
      "execution_count": 8,
      "metadata": {
        "colab": {
          "base_uri": "https://localhost:8080/"
        },
        "id": "0Rb_m6FRKktN",
        "outputId": "db767f91-5ba4-48ee-fc76-06df740a5fea"
      },
      "outputs": [
        {
          "name": "stdout",
          "output_type": "stream",
          "text": [
            "Given Tree Inorder Traversal:  G D H B I E A C J F \n",
            "Swapped Tree Inorder Traversal:  J F C A I E B G D H "
          ]
        }
      ],
      "source": [
        "def swap_child(root, level, M):\n",
        "    if root == None:\n",
        "        return\n",
        "    if level < M:\n",
        "        root.left, root.right = root.right, root.left\n",
        "    swap_child(root.left,level+1,M)\n",
        "    swap_child(root.right,level+1,M)\n",
        "    return root\n",
        "\n",
        "\n",
        "#Driver Code\n",
        "root= BTNode('A')\n",
        "root.left = BTNode('B')\n",
        "root.right = BTNode('C')\n",
        "root.right.right = BTNode('F')\n",
        "root.right.right.left = BTNode('J')\n",
        "root.left.left = BTNode('D')\n",
        "root.left.right = BTNode('E')\n",
        "root.left.right.left = BTNode('I')\n",
        "root.left.left.left = BTNode('G')\n",
        "root.left.left.right = BTNode('H')\n",
        "#Write other nodes by yourself from the given tree of Doc File\n",
        "\n",
        "\n",
        "print('Given Tree Inorder Traversal: ', end = ' ')\n",
        "inorder(root)   #Given Tree Inorder Traversal: G D H B I E A C J F\n",
        "print()\n",
        "\n",
        "root2 = swap_child(root, 0, 2)\n",
        "print('Swapped Tree Inorder Traversal: ', end = ' ')\n",
        "inorder(root2)  #Swapped Tree Inorder Traversal: J F C A I E B G D H"
      ]
    },
    {
      "cell_type": "markdown",
      "metadata": {
        "id": "VrHklDOEKlHf"
      },
      "source": [
        "Task 5"
      ]
    },
    {
      "cell_type": "code",
      "execution_count": 9,
      "metadata": {
        "colab": {
          "base_uri": "https://localhost:8080/"
        },
        "id": "dMXJ2qxkNn_F",
        "outputId": "a643ebe8-dc0a-4749-aab5-f92918813bca"
      },
      "outputs": [
        {
          "name": "stdout",
          "output_type": "stream",
          "text": [
            "111\n"
          ]
        }
      ],
      "source": [
        "def sum_subtree(root):\n",
        "    if root == None:\n",
        "        return 0\n",
        "    return root.elem + sum_subtree(root.left) + sum_subtree(root.right)\n",
        "\n",
        "def subtract_summation(root):\n",
        "  if root == None:\n",
        "    return 0\n",
        "  left_sum = sum_subtree(root.left)\n",
        "  right_sum = sum_subtree(root.right)\n",
        "\n",
        "  return left_sum - right_sum\n",
        "\n",
        "#Driver Code\n",
        "root=BTNode(71)\n",
        "root.left = BTNode(27)\n",
        "root.left.left = BTNode(80)\n",
        "root.left.right = BTNode(75)\n",
        "root.left.left.left = BTNode(87)\n",
        "root.left.left.right = BTNode(56)\n",
        "root.right = BTNode(62)\n",
        "root.right.left = BTNode(41)\n",
        "root.right.right = BTNode(3)\n",
        "root.right.right.left = BTNode(19)\n",
        "root.right.right.right = BTNode(89)\n",
        "#Write other nodes by yourself from the given tree of Doc File\n",
        "print(subtract_summation(root)) #This should print 111"
      ]
    },
    {
      "cell_type": "markdown",
      "metadata": {
        "id": "SBD-0xoZP_ni"
      },
      "source": [
        "Bonus Task"
      ]
    },
    {
      "cell_type": "code",
      "execution_count": 10,
      "metadata": {
        "colab": {
          "base_uri": "https://localhost:8080/"
        },
        "id": "U_LYhaRIxZCb",
        "outputId": "addfccac-f3a8-49be-e848-08102c862688"
      },
      "outputs": [
        {
          "name": "stdout",
          "output_type": "stream",
          "text": [
            "4\n"
          ]
        }
      ],
      "source": [
        "def level_sum(root):\n",
        "    return level_sum_with_helper(root)\n",
        "def level_sum_with_helper(root, level = 0, odd_sum = 0, even_sum = 0):\n",
        "    if root == None:\n",
        "        return odd_sum + even_sum\n",
        "    if level%2 == 0:\n",
        "        even_sum -= root.elem\n",
        "    else:\n",
        "        odd_sum += root.elem\n",
        "\n",
        "    left = level_sum_with_helper(root.left,level+1,odd_sum,even_sum)\n",
        "    right = level_sum_with_helper(root.right,level+1,odd_sum,even_sum)\n",
        "\n",
        "    return left + right - (odd_sum+even_sum)\n",
        "\n",
        "#DRIVER CODE\n",
        "root = BTNode(1)\n",
        "n2 = BTNode(2)\n",
        "n3 = BTNode(3)\n",
        "n4 = BTNode(4)\n",
        "n5 = BTNode(5)\n",
        "n6 = BTNode(6)\n",
        "n7 = BTNode(7)\n",
        "n8 = BTNode(8)\n",
        "root.left = n2\n",
        "root.right = n3\n",
        "\n",
        "n2.left = n4\n",
        "n3.left = n5\n",
        "n3.right = n6\n",
        "\n",
        "n5.left = n7\n",
        "n5.right = n8\n",
        "\n",
        "\n",
        "print(level_sum(root)) #This should print 4"
      ]
    }
  ],
  "metadata": {
    "colab": {
      "provenance": []
    },
    "kernelspec": {
      "display_name": "Python 3",
      "name": "python3"
    },
    "language_info": {
      "codemirror_mode": {
        "name": "ipython",
        "version": 3
      },
      "file_extension": ".py",
      "mimetype": "text/x-python",
      "name": "python",
      "nbconvert_exporter": "python",
      "pygments_lexer": "ipython3",
      "version": "3.12.6"
    }
  },
  "nbformat": 4,
  "nbformat_minor": 0
}
