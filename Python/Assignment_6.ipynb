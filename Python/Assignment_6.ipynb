{
  "cells": [
    {
      "cell_type": "code",
      "execution_count": 1,
      "metadata": {
        "id": "D6vC520OPeTa"
      },
      "outputs": [],
      "source": [
        "class BTNode:\n",
        "  def __init__(self, elem):\n",
        "    self.elem = elem\n",
        "    self.right = None\n",
        "    self.left = None"
      ]
    },
    {
      "cell_type": "code",
      "execution_count": 2,
      "metadata": {
        "id": "UDTKlm4-PfNM"
      },
      "outputs": [],
      "source": [
        "def inorder(root):\n",
        "  if root == None:\n",
        "    return\n",
        "\n",
        "  inorder(root.left)\n",
        "  print(root.elem, end = ' ')\n",
        "  inorder(root.right)"
      ]
    },
    {
      "cell_type": "code",
      "execution_count": 3,
      "metadata": {
        "colab": {
          "base_uri": "https://localhost:8080/"
        },
        "id": "Rtc22SPzPgzM",
        "outputId": "ccecfdce-95fb-42db-d4e5-56709813b620"
      },
      "outputs": [
        {
          "name": "stdout",
          "output_type": "stream",
          "text": [
            "H D B E A I F J C G k "
          ]
        }
      ],
      "source": [
        "def tree_construction(arr, i = 1):\n",
        "  if i>=len(arr) or arr[i] == None:\n",
        "    return None\n",
        "  p = BTNode(arr[i])\n",
        "  p.left = tree_construction(arr, 2*i)\n",
        "  p.right = tree_construction(arr, 2*i+1)\n",
        "  return p\n",
        "\n",
        "\n",
        "root2 = tree_construction([None, 'A', 'B', 'C', 'D', 'E', 'F', 'G', 'H', None, None, None, 'I', 'J', None, 'k'])\n",
        "inorder(root2)"
      ]
    },
    {
      "cell_type": "markdown",
      "metadata": {
        "id": "S2nNCJNhPqGq"
      },
      "source": [
        "Task 1"
      ]
    },
    {
      "cell_type": "code",
      "execution_count": 4,
      "metadata": {
        "colab": {
          "base_uri": "https://localhost:8080/"
        },
        "id": "zbBHU3FoPieb",
        "outputId": "d6930572-a180-4ffa-aabe-448b0b5af8ca"
      },
      "outputs": [
        {
          "name": "stdout",
          "output_type": "stream",
          "text": [
            "10\n",
            "15\n",
            "20\n",
            "25\n",
            "10\n"
          ]
        }
      ],
      "source": [
        "def LCA(root, x, y):\n",
        "    if root:\n",
        "        if x < root.elem and y < root.elem:\n",
        "            return LCA(root.left,x,y)\n",
        "        elif x > root.elem and y > root.elem:\n",
        "            return LCA(root.right,x,y)\n",
        "        else:\n",
        "            return root.elem\n",
        "    return None\n",
        "\n",
        "#DRIVER CODE\n",
        "root = BTNode(15)\n",
        "root.left = BTNode(10)\n",
        "root.left.left = BTNode(8)\n",
        "root.left.left.left = BTNode(6)\n",
        "root.left.left.right = BTNode(9)\n",
        "root.left.right = BTNode(12)\n",
        "root.right = BTNode(25)\n",
        "root.right.left = BTNode(20)\n",
        "root.right.left.left = BTNode(18)\n",
        "root.right.left.right = BTNode(22)\n",
        "root.right.right = BTNode(30)\n",
        "#Write by yourself from the given tree (Create parent node and its corresponding left and right children nodes)\n",
        "#check all the sample inputs given\n",
        "#You can take help by seeing the driver code of Lab-6\n",
        "print(LCA(root,6,12))\n",
        "print(LCA(root,20,6))\n",
        "print(LCA(root,18,22))\n",
        "print(LCA(root,20,25))\n",
        "print(LCA(root,10,12))"
      ]
    },
    {
      "cell_type": "markdown",
      "metadata": {
        "id": "c-TBf3m0PrtK"
      },
      "source": [
        "Task 2"
      ]
    },
    {
      "cell_type": "code",
      "execution_count": 5,
      "metadata": {
        "colab": {
          "base_uri": "https://localhost:8080/"
        },
        "id": "i6l-v7k1eE9A",
        "outputId": "eb45b0fe-8f24-44ac-c818-ad511128b97e"
      },
      "outputs": [
        {
          "name": "stdout",
          "output_type": "stream",
          "text": [
            "[30, 10, 15]\n",
            "No Path Found\n"
          ]
        }
      ],
      "source": [
        "def find_path(root, key):\n",
        "    if not root:\n",
        "        return \"No Path Found\"\n",
        "\n",
        "    if root.elem == key:\n",
        "        return [root.elem]\n",
        "\n",
        "    if key<root.elem:\n",
        "        left = find_path(root.left,key)\n",
        "        if left != \"No Path Found\":\n",
        "            return [root.elem] + left\n",
        "    else:\n",
        "        right = find_path(root.right,key)\n",
        "        if right != \"No Path Found\":\n",
        "            return [root.elem] + right\n",
        "    return \"No Path Found\"\n",
        "\n",
        "#DRIVER CODE\n",
        "#Write by yourself from the given tree\n",
        "root = BTNode(30)\n",
        "root.left = BTNode(10)\n",
        "root.left.left = BTNode(3)\n",
        "root.left.right = BTNode(15)\n",
        "root.right = BTNode(40)\n",
        "root.right.left = BTNode(35)\n",
        "root.right.right = BTNode(55)\n",
        "\n",
        "print(find_path(root,15))\n",
        "#This should print [30,10,15]\n",
        "\n",
        "print(find_path(root,50))\n",
        "#This should print No Path Found"
      ]
    },
    {
      "cell_type": "markdown",
      "metadata": {
        "id": "7r3lH3aWPz2d"
      },
      "source": [
        "Task 3"
      ]
    },
    {
      "cell_type": "code",
      "execution_count": 6,
      "metadata": {
        "colab": {
          "base_uri": "https://localhost:8080/"
        },
        "id": "5eT12zYb8zm7",
        "outputId": "f9c52d82-8968-4620-9ffd-99de41111c17"
      },
      "outputs": [
        {
          "name": "stdout",
          "output_type": "stream",
          "text": [
            "108\n"
          ]
        }
      ],
      "source": [
        "def sum_of_leaves(root, sum):\n",
        "    if not root:\n",
        "        return sum\n",
        "\n",
        "    if root.left == None and root.right == None:\n",
        "        return sum + root.elem\n",
        "\n",
        "    left = sum_of_leaves(root.left,sum)\n",
        "    right = sum_of_leaves(root.right,sum)\n",
        "\n",
        "    return left+right\n",
        "\n",
        "\n",
        "#DRIVER CODE\n",
        "#Write by yourself from the given tree\n",
        "root = BTNode(30)\n",
        "root.left = BTNode(10)\n",
        "root.left.right = BTNode(15)\n",
        "root.left.left = BTNode(3)\n",
        "root.left.left.left = BTNode(2)\n",
        "root.right = BTNode(40)\n",
        "root.right.left = BTNode(35)\n",
        "root.right.right = BTNode(55)\n",
        "root.right.left.right = BTNode(36)\n",
        "\n",
        "print(sum_of_leaves(root, 0))"
      ]
    },
    {
      "cell_type": "markdown",
      "metadata": {
        "id": "5KeA-BoC3uOo"
      },
      "source": [
        "Task 4"
      ]
    },
    {
      "cell_type": "code",
      "execution_count": 7,
      "metadata": {
        "colab": {
          "base_uri": "https://localhost:8080/"
        },
        "id": "zFwP64v4Pu6d",
        "outputId": "416d2837-2d9a-4122-eadd-7ceb90aa76b9"
      },
      "outputs": [
        {
          "name": "stdout",
          "output_type": "stream",
          "text": [
            "Given Tree Inorder Traversal:  4 8 10 12 14 20 22 \n",
            "Inorder predecessor of node 20: 14\n",
            "Inorder predecessor of node 14: 12\n",
            "Inorder predecessor of node 10: 8\n"
          ]
        }
      ],
      "source": [
        "def inorder_predecessor(root, x):\n",
        "    if not root:\n",
        "        return None\n",
        "\n",
        "    if root.elem == x.elem:\n",
        "        if root.left != None:\n",
        "            temp = root.left\n",
        "            while temp.right != None:\n",
        "                temp = temp.right\n",
        "            return temp\n",
        "        else:\n",
        "            return None\n",
        "    if x.elem < root.elem:\n",
        "        return inorder_predecessor(root.left,x)\n",
        "    else:\n",
        "        if inorder_predecessor(root.right,x) == None:\n",
        "            return root\n",
        "        else:\n",
        "            return inorder_predecessor(root.right,x)\n",
        "\n",
        "\n",
        "#DRIVER CODE\n",
        "root = BTNode(20)\n",
        "n1 = BTNode(8)\n",
        "n2 = BTNode(22)\n",
        "n3 = BTNode(4)\n",
        "n4 = BTNode(12)\n",
        "n5 = BTNode(10)\n",
        "n6 = BTNode(14)\n",
        "\n",
        "root.left = n1\n",
        "root.right = n2\n",
        "\n",
        "n1.left = n3\n",
        "n1.right = n4\n",
        "\n",
        "n4.left = n5\n",
        "n4.right = n6\n",
        "\n",
        "print('Given Tree Inorder Traversal: ', end = ' ')\n",
        "inorder(root) #Given Tree Inorder Traversal:  4 8 10 12 14 20 22\n",
        "print()\n",
        "\n",
        "x = root\n",
        "print(f'Inorder predecessor of node {x.elem}: {inorder_predecessor(root, x).elem}') #Inorder predecessor of node 20: 14\n",
        "x = root.left.right.right\n",
        "print(f'Inorder predecessor of node {x.elem}: {inorder_predecessor(root, x).elem}') #Inorder predecessor of node 14: 12\n",
        "x = root.left.right.left\n",
        "print(f'Inorder predecessor of node {x.elem}: {inorder_predecessor(root, x).elem}') #Inorder predecessor of node 10: 8"
      ]
    }
  ],
  "metadata": {
    "colab": {
      "provenance": []
    },
    "kernelspec": {
      "display_name": "Python 3",
      "name": "python3"
    },
    "language_info": {
      "codemirror_mode": {
        "name": "ipython",
        "version": 3
      },
      "file_extension": ".py",
      "mimetype": "text/x-python",
      "name": "python",
      "nbconvert_exporter": "python",
      "pygments_lexer": "ipython3",
      "version": "3.12.6"
    }
  },
  "nbformat": 4,
  "nbformat_minor": 0
}
