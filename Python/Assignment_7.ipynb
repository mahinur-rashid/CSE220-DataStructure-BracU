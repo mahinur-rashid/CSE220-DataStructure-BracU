{
  "cells": [
    {
      "cell_type": "markdown",
      "metadata": {
        "id": "2S2TFyVGSKxA"
      },
      "source": [
        "**Task 1**"
      ]
    },
    {
      "cell_type": "code",
      "execution_count": 8,
      "metadata": {
        "id": "00v5sny-eFHQ"
      },
      "outputs": [],
      "source": [
        "import numpy as np\n",
        "class MinHeap:\n",
        "    def __init__(self,size):\n",
        "        self.__heap = np.zeros(size, dtype= int)\n",
        "        self.__current_size = 0\n",
        "\n",
        "    def insert(self,elem):\n",
        "        if self.__current_size == len(self.__heap)-1:\n",
        "            return \"Error-'The heap is full'\"\n",
        "        self.__current_size += 1\n",
        "        self.__heap[self.__current_size] = elem\n",
        "        self.swim()\n",
        "\n",
        "    def swim(self):\n",
        "        index = self.__current_size\n",
        "        parent = index//2\n",
        "        while parent>0 and self.__heap[parent]>=self.__heap[index]:\n",
        "            self.__heap[parent],self.__heap[index]=self.__heap[index],self.__heap[parent]\n",
        "            index = parent\n",
        "            parent = index //2\n",
        "\n",
        "    def extractMin(self):\n",
        "        if self.__current_size == 0:\n",
        "            return \"Error-'No element left in heap'\"\n",
        "        elem = self.__heap[1]\n",
        "        self.__heap[1] = self.__heap[self.__current_size]\n",
        "        self.__heap[self.__current_size] = elem\n",
        "        self.__current_size -= 1\n",
        "        self.sink()\n",
        "        return elem\n",
        "\n",
        "    def sink(self):\n",
        "        parent = 1\n",
        "        left = 2 * parent\n",
        "        right = 2 * parent + 1\n",
        "        while left <= self.__current_size and right <= self.__current_size:\n",
        "            if self.__heap[parent] > self.__heap[left] and self.__heap[parent] > self.__heap[right]:\n",
        "                if self.__heap[left] < self.__heap[right]:\n",
        "                    self.__heap[parent],self.__heap[left] = self.__heap[left],self.__heap[parent]\n",
        "                    parent = left\n",
        "                else:\n",
        "                    self.__heap[parent],self.__heap[right] = self.__heap[right],self.__heap[parent]\n",
        "                    parent = right\n",
        "            elif self.__heap[parent] > self.__heap[left]:\n",
        "                self.__heap[parent],self.__heap[left] = self.__heap[left],self.__heap[parent]\n",
        "                parent = left\n",
        "            elif self.__heap[parent] > self.__heap[right]:\n",
        "                self.__heap[parent],self.__heap[right] = self.__heap[right],self.__heap[parent]\n",
        "                parent = right\n",
        "            else:\n",
        "                break\n",
        "            left = 2 * parent\n",
        "            right = 2 * parent + 1\n",
        "        if left <= self.__current_size and self.__heap[parent] > self.__heap[left]:\n",
        "            self.__heap[parent],self.__heap[left] = self.__heap[left],self.__heap[parent]\n",
        "\n",
        "    def sort(self):\n",
        "        while True:\n",
        "            if self.extractMin() == \"Error-'No element left in heap'\":\n",
        "                break\n",
        "        self.printHeap()\n",
        "\n",
        "    def printHeap(self):\n",
        "        for i in range(1,len(self.__heap)):\n",
        "            print(self.__heap[i], end = \" \")\n",
        "        print(\"\\nCurrent index:\",self.__current_size)\n"
      ]
    },
    {
      "cell_type": "code",
      "execution_count": 9,
      "metadata": {
        "colab": {
          "base_uri": "https://localhost:8080/"
        },
        "id": "ZDyRkPAE84mz",
        "outputId": "45245ec1-78f0-42b5-9f37-3b978a00f64b"
      },
      "outputs": [
        {
          "name": "stdout",
          "output_type": "stream",
          "text": [
            "0 0 0 0 0 0 0 0 0 0 0 \n",
            "Current index: 0\n",
            "9 11 10 48 20 40 18 100 50 30 27 \n",
            "Current index: 11\n",
            "Error-'The heap is full'\n",
            "9\n",
            "10 11 18 48 20 40 27 100 50 30 9 \n",
            "Current index: 10\n",
            "100 50 48 40 30 27 20 18 11 10 9 \n",
            "Current index: 0\n"
          ]
        }
      ],
      "source": [
        "arr = [50,30,40,10,20,9,18,100,48,27,11]\n",
        "min_heap = MinHeap(len(arr)+1)\n",
        "min_heap.printHeap()\n",
        "for i in arr:\n",
        "    min_heap.insert(i)\n",
        "min_heap.printHeap()\n",
        "print(min_heap.insert(1))\n",
        "print(min_heap.extractMin())\n",
        "min_heap.printHeap()\n",
        "min_heap.sort()"
      ]
    },
    {
      "cell_type": "markdown",
      "metadata": {
        "id": "ldFeUZaOSSnh"
      },
      "source": [
        "**Task 2**"
      ]
    },
    {
      "cell_type": "code",
      "execution_count": 10,
      "metadata": {
        "id": "a9PqorFkToVk"
      },
      "outputs": [],
      "source": [
        "import numpy as np\n",
        "class MaxHeap:\n",
        "    def __init__(self,size):\n",
        "        self.__heap = np.zeros(size, dtype= int)\n",
        "        self.__current_size = 0\n",
        "\n",
        "    def insert(self,elem):\n",
        "        if self.__current_size == len(self.__heap)-1:\n",
        "            return \"Error-'The heap is full'\"\n",
        "        self.__current_size += 1\n",
        "        self.__heap[self.__current_size] = elem\n",
        "        self.swim()\n",
        "\n",
        "    def swim(self):\n",
        "        index = self.__current_size\n",
        "        parent = index//2\n",
        "        while parent>0 and self.__heap[parent]<self.__heap[index]:\n",
        "            self.__heap[parent],self.__heap[index]=self.__heap[index],self.__heap[parent]\n",
        "            index = parent\n",
        "            parent = index //2\n",
        "\n",
        "    def extractMax(self):\n",
        "        if self.__current_size == 0:\n",
        "            return \"Error-'No element left in heap'\"\n",
        "        elem = self.__heap[1]\n",
        "        self.__heap[1] = self.__heap[self.__current_size]\n",
        "        self.__heap[self.__current_size] = elem\n",
        "        self.__current_size -= 1\n",
        "        self.sink()\n",
        "        return elem\n",
        "\n",
        "    def sink(self):\n",
        "        parent = 1\n",
        "        left = 2 * parent\n",
        "        right = 2 * parent + 1\n",
        "        while left <= self.__current_size and right <= self.__current_size:\n",
        "            if self.__heap[parent] < self.__heap[left] and self.__heap[parent] < self.__heap[right]:\n",
        "                if self.__heap[left] > self.__heap[right]:\n",
        "                    self.__heap[parent],self.__heap[left] = self.__heap[left],self.__heap[parent]\n",
        "                    parent = left\n",
        "                else:\n",
        "                    self.__heap[parent],self.__heap[right] = self.__heap[right],self.__heap[parent]\n",
        "                    parent = right\n",
        "            elif self.__heap[parent] < self.__heap[left]:\n",
        "                self.__heap[parent],self.__heap[left] = self.__heap[left],self.__heap[parent]\n",
        "                parent = left\n",
        "            elif self.__heap[parent] < self.__heap[right]:\n",
        "                self.__heap[parent],self.__heap[right] = self.__heap[right],self.__heap[parent]\n",
        "                parent = right\n",
        "            else:\n",
        "                break\n",
        "            left = 2 * parent\n",
        "            right = 2 * parent + 1\n",
        "        if left <= self.__current_size and self.__heap[parent] < self.__heap[left]:\n",
        "            self.__heap[parent],self.__heap[left] = self.__heap[left],self.__heap[parent]\n",
        "\n",
        "    def sort(self):\n",
        "        while True:\n",
        "            if self.extractMax() == \"Error-'No element left in heap'\":\n",
        "                break\n",
        "        self.printHeap()\n",
        "\n",
        "    def printHeap(self):\n",
        "        for i in range(1,len(self.__heap)):\n",
        "            print(self.__heap[i], end = \" \")\n",
        "        print(\"\\nCurrent index:\",self.__current_size)"
      ]
    },
    {
      "cell_type": "code",
      "execution_count": 11,
      "metadata": {
        "colab": {
          "base_uri": "https://localhost:8080/"
        },
        "id": "RfrPelHMVZpZ",
        "outputId": "144f3e55-9946-4117-9d22-8989a91c9b9d"
      },
      "outputs": [
        {
          "name": "stdout",
          "output_type": "stream",
          "text": [
            "0 0 0 0 0 0 0 0 0 0 0 \n",
            "Current index: 0\n",
            "100 50 40 48 27 9 18 10 30 20 11 \n",
            "Current index: 11\n",
            "Error-'The heap is full'\n",
            "100\n",
            "50 48 40 30 27 9 18 10 11 20 100 \n",
            "Current index: 10\n",
            "9 10 11 18 20 27 30 40 48 50 100 \n",
            "Current index: 0\n"
          ]
        }
      ],
      "source": [
        "arr = [50,30,40,10,20,9,18,100,48,27,11]\n",
        "max_heap = MaxHeap(len(arr)+1)\n",
        "max_heap.printHeap()\n",
        "for i in arr:\n",
        "    max_heap.insert(i)\n",
        "max_heap.printHeap()\n",
        "print(max_heap.insert(1))\n",
        "print(max_heap.extractMax())\n",
        "max_heap.printHeap()\n",
        "max_heap.sort()"
      ]
    },
    {
      "cell_type": "markdown",
      "metadata": {
        "id": "yXdYF4sfYBCe"
      },
      "source": [
        "**Task 3**\n"
      ]
    },
    {
      "cell_type": "code",
      "execution_count": 14,
      "metadata": {
        "colab": {
          "base_uri": "https://localhost:8080/"
        },
        "id": "Q-PC1H5zv6lf",
        "outputId": "1d39ed5e-1e45-4f10-f2a3-980033663a43"
      },
      "outputs": [
        {
          "name": "stdout",
          "output_type": "stream",
          "text": [
            "2 4 7 7 \n",
            "Current index: 4\n"
          ]
        }
      ],
      "source": [
        "def assign_task(tasks,m):\n",
        "    heap = MinHeap(m+1)\n",
        "    if m>= len(tasks):\n",
        "        for i in tasks:\n",
        "            heap.insert(i)\n",
        "    else:\n",
        "        for i in range(m):\n",
        "            heap.insert(tasks[i])\n",
        "        heap.insert(heap.extractMin()+tasks[m])\n",
        "    heap.printHeap()\n",
        "\n",
        "tasks = [2,4,7,1,6]\n",
        "m = 4\n",
        "assign_task(tasks,m)"
      ]
    },
    {
      "cell_type": "markdown",
      "metadata": {
        "id": "TdE-v3ST53hO"
      },
      "source": [
        "**Task 4**\n"
      ]
    },
    {
      "cell_type": "code",
      "execution_count": 15,
      "metadata": {
        "colab": {
          "base_uri": "https://localhost:8080/"
        },
        "id": "mJuFFSAh3rwY",
        "outputId": "e0910fe9-353e-4bf9-d2d1-fe6f00d032e6"
      },
      "outputs": [
        {
          "data": {
            "text/plain": [
              "array([10,  8,  7])"
            ]
          },
          "execution_count": 15,
          "metadata": {},
          "output_type": "execute_result"
        }
      ],
      "source": [
        "import numpy as np\n",
        "def limited_times_large_num(nums,times):\n",
        "    heap = MaxHeap(len(nums)+1)\n",
        "    for i in nums:\n",
        "        heap.insert(i)\n",
        "    array = np.zeros(times,dtype = int)\n",
        "    for i in range(times):\n",
        "        array[i] = heap.extractMax()\n",
        "    return array\n",
        "\n",
        "nums = [4,10,2,8,6,7]\n",
        "k = 3\n",
        "limited_times_large_num(nums,k)"
      ]
    }
  ],
  "metadata": {
    "colab": {
      "provenance": []
    },
    "kernelspec": {
      "display_name": "Python 3",
      "name": "python3"
    },
    "language_info": {
      "codemirror_mode": {
        "name": "ipython",
        "version": 3
      },
      "file_extension": ".py",
      "mimetype": "text/x-python",
      "name": "python",
      "nbconvert_exporter": "python",
      "pygments_lexer": "ipython3",
      "version": "3.12.6"
    }
  },
  "nbformat": 4,
  "nbformat_minor": 0
}
